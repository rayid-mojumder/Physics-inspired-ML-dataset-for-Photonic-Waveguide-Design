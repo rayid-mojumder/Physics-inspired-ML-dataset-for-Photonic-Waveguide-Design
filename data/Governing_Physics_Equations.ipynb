{
 "cells": [
  {
   "cell_type": "markdown",
   "id": "dad9d043",
   "metadata": {},
   "source": [
    "# 📘 Governing Physics Equations for Photonic Waveguide ML Dataset"
   ]
  },
  {
   "cell_type": "markdown",
   "id": "8bcb6800",
   "metadata": {},
   "source": [
    "## 1. Normalized Frequency (V-Parameter)\n",
    "$$\n",
    "V = \\frac{2 \\pi a}{\\lambda} \\sqrt{n_1^2 - n_2^2}\n",
    "$$"
   ]
  },
  {
   "cell_type": "markdown",
   "id": "43b39d27",
   "metadata": {},
   "source": [
    "## 2. Mode Field Diameter (MFD)\n",
    "$$\n",
    "w \\approx a \\left(0.65 + \\frac{1.619}{V^{1.5}} + \\frac{2.879}{V^6}\\right)\n",
    "\\quad \\Rightarrow \\quad \\text{MFD} = 2w\n",
    "$$"
   ]
  },
  {
   "cell_type": "markdown",
   "id": "c1b99fbc",
   "metadata": {},
   "source": [
    "## 3. Single vs. Multi-Mode Condition\n",
    "$$\n",
    "\\text{Single mode: } V < 2.405 \\\\\n",
    "\\text{Multi-mode: } V \\geq 2.405\n",
    "$$"
   ]
  },
  {
   "cell_type": "markdown",
   "id": "f6d6f131",
   "metadata": {},
   "source": [
    "## 4. Propagation Loss (PL)\n",
    "$$\n",
    "\\alpha_{\\text{eff}} = \\alpha_1 \\Gamma + \\alpha_2 (1 - \\Gamma) \\\\\n",
    "\\text{PL (dB)} = 4.343 \\cdot \\alpha_{\\text{eff}} \\cdot L\n",
    "$$"
   ]
  },
  {
   "cell_type": "markdown",
   "id": "ec5813e3",
   "metadata": {},
   "source": [
    "## 5. Insertion / Coupling Loss (IL)\n",
    "$$\n",
    "\\eta_c = \\left( \\frac{2w_{\\text{in}} w}{w_{\\text{in}}^2 + w^2} \\right)^2 \\\\\n",
    "\\text{IL (dB)} = -10 \\log_{10}(\\eta_c)\n",
    "$$"
   ]
  },
  {
   "cell_type": "markdown",
   "id": "d42367bd",
   "metadata": {},
   "source": [
    "## 6. Scattering Loss\n",
    "**Bulk Rayleigh Scattering:**\n",
    "$$\n",
    "\\alpha_{\\text{bulk}} = A_R \\lambda^{-4}\n",
    "$$\n",
    "**Surface Scattering:**\n",
    "$$\n",
    "\\alpha_{\\text{surface}} = \\frac{4\\pi^2}{\\lambda^2} \\sigma_{\\text{rms}}^2 \\left| \\frac{\\partial n_{\\text{eff}}}{\\partial a} \\right|^2\n",
    "$$\n",
    "**Total Scattering Loss:**\n",
    "$$\n",
    "\\text{Scattering Loss (dB)} = 4.343 (\\alpha_{\\text{bulk}} + \\alpha_{\\text{surface}}) L\n",
    "$$"
   ]
  },
  {
   "cell_type": "markdown",
   "id": "2ff7d77d",
   "metadata": {},
   "source": [
    "## 7. Effective Index (n_eff)\n",
    "$$\n",
    "n_{\\text{eff}} = \\sqrt{n_2^2 + b(n_1^2 - n_2^2)}, \\quad b = \\frac{1}{V^2}\n",
    "$$"
   ]
  },
  {
   "cell_type": "markdown",
   "id": "828129b5",
   "metadata": {},
   "source": [
    "## 8. Cross Coupling\n",
    "$$\n",
    "\\text{Cross Coupling} \\approx 0.5 \\left( \\frac{V - 2.405}{V} \\right)\n",
    "$$"
   ]
  },
  {
   "cell_type": "markdown",
   "id": "695a8a6f",
   "metadata": {},
   "source": [
    "## 9. TE/TM Mode Percentages\n",
    "**Single Mode:**\n",
    "$$\n",
    "\\text{TE\\%} = (1 - \\text{polarization}) \\times 100 \\\\\n",
    "\\text{TM\\%} = \\text{polarization} \\times 100\n",
    "$$\n",
    "**Multimode with Cross Coupling:**\n",
    "$$\n",
    "\\text{TE\\%} = [(1 - p)(1 - c) + 0.5c] \\times 100 \\\\\n",
    "\\text{TM\\%} = [p(1 - c) + 0.5c] \\times 100\n",
    "$$"
   ]
  }
 ],
 "metadata": {},
 "nbformat": 4,
 "nbformat_minor": 5
}