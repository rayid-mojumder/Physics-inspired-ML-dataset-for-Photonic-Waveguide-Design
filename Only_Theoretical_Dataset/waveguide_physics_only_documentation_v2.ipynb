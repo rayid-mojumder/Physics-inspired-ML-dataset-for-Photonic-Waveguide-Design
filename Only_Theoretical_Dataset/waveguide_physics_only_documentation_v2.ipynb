{
 "cells": [
  {
   "cell_type": "markdown",
   "id": "eee35f15",
   "metadata": {},
   "source": [
    "# Updated Realistic Synthetic Waveguide Dataset\n",
    "\n",
    "This synthetic dataset is designed for training physics‐inspired neural networks in the domain of optical waveguide characterization. The dataset consists of 50,000 samples. Each sample comprises 15 input features that capture the physical, material, and geometrical attributes of a waveguide and 14 output targets that describe its optical performance (losses, mode characteristics, effective index, and polarization components).\n",
    "\n",
    "The dataset is especially useful for developing data‐driven models that can predict waveguide performance from basic design parameters, enabling applications in integrated photonics for both glass and silicon-based devices."
   ]
  },
  {
   "cell_type": "markdown",
   "id": "e186269b",
   "metadata": {},
   "source": [
    "## Input Parameter List (15 Features)\n"
   ]
  },
  {
   "cell_type": "markdown",
   "id": "2d89060d",
   "metadata": {},
   "source": [
    "### core_index\n",
    "\n",
    "Description: Complex refractive index of the waveguide core.\n",
    "\n",
    "Range: Real part between 1.48 and 1.52 (for single-mode) or 1.50–1.52 (for multimode) with a very small negative imaginary part (loss) between –1×10⁻⁸ and –1×10⁻⁷.\n",
    "\n",
    "Format: Stored as a string in the form “x+yj” (e.g., “1.488000-3.200000e-08j”) without any extra brackets."
   ]
  },
  {
   "cell_type": "markdown",
   "id": "6e541610",
   "metadata": {},
   "source": [
    "### clad_index\n",
    "\n",
    "Description: Complex refractive index of the cladding.\n",
    "\n",
    "Range: Real part between ~1.44 and just below the core index (close for single-mode, larger difference for multimode) with a similar small negative imaginary part.\n",
    "\n",
    "Format: Same string format as the core index."
   ]
  },
  {
   "cell_type": "markdown",
   "id": "6c342993",
   "metadata": {},
   "source": [
    "### core_radius_m\n",
    "\n",
    "Description: Core radius (a) in meters.\n",
    "\n",
    "Range: For single-mode: 0.5–2 µm (diameter 1–4 µm); for multimode: 2–10 µm (diameter 4–20 µm)."
   ]
  },
  {
   "cell_type": "markdown",
   "id": "eadff67d",
   "metadata": {},
   "source": [
    "### clad_radius_m\n",
    "\n",
    "Description: Cladding radius (b) in meters.\n",
    "\n",
    "Range: 20 µm to 50 µm."
   ]
  },
  {
   "cell_type": "markdown",
   "id": "0f728afc",
   "metadata": {},
   "source": [
    "### length_m\n",
    "\n",
    "Description: Waveguide length (L) in meters.\n",
    "\n",
    "Range: 1 mm to 50 cm (0.001 to 0.5 m)."
   ]
  },
  {
   "cell_type": "markdown",
   "id": "e622c360",
   "metadata": {},
   "source": [
    "### wavelength_m\n",
    "\n",
    "Description: Operating wavelength (λ) in meters.\n",
    "\n",
    "Range: 500 nm to 1600 nm (500×10⁻⁹ to 1.6×10⁻⁶ m)."
   ]
  },
  {
   "cell_type": "markdown",
   "id": "6615bfb5",
   "metadata": {},
   "source": [
    "### polarization\n",
    "\n",
    "Description: Input polarization as a unitless number, where 0 represents pure TE and 1 represents pure TM.\n",
    "\n",
    "Range: 0 to 1."
   ]
  },
  {
   "cell_type": "markdown",
   "id": "c1ba8b58",
   "metadata": {},
   "source": [
    "### alpha_core\n",
    "\n",
    "Description: Intrinsic loss coefficient for the core (α₁) in inverse meters (m⁻¹).\n",
    "\n",
    "Range: 1×10⁻⁴ to 1×10⁻³ m⁻¹."
   ]
  },
  {
   "cell_type": "markdown",
   "id": "b5af4acc",
   "metadata": {},
   "source": [
    "### alpha_clad\n",
    "\n",
    "Description: Intrinsic loss coefficient for the cladding (α₂) in m⁻¹.\n",
    "\n",
    "Range: 1×10⁻⁴ to 1×10⁻³ m⁻¹."
   ]
  },
  {
   "cell_type": "markdown",
   "id": "fd9e94e4",
   "metadata": {},
   "source": [
    "### photoelastic_coeff\n",
    "\n",
    "Description: Photoelastic coefficient (p) of the core material.\n",
    "\n",
    "Range: 0.20 to 0.25."
   ]
  },
  {
   "cell_type": "markdown",
   "id": "7d0ed4e6",
   "metadata": {},
   "source": [
    "### delta_rho_over_rho\n",
    "\n",
    "Description: Density variation ratio (Δρ/ρ) representing the fractional density fluctuation.\n",
    "\n",
    "Range: 1×10⁻¹² to 1×10⁻¹¹."
   ]
  },
  {
   "cell_type": "markdown",
   "id": "b534af1d",
   "metadata": {},
   "source": [
    "### sigma_rms_m\n",
    "\n",
    "Description: RMS surface roughness (σ) at the core–cladding interface (in meters).\n",
    "\n",
    "Range: 1 to 10 nm (1×10⁻⁹ to 1×10⁻⁸ m)."
   ]
  },
  {
   "cell_type": "markdown",
   "id": "3b0cb9b1",
   "metadata": {},
   "source": [
    "### roughness_corr_length_m\n",
    "\n",
    "Description: Correlation length (L_corr) of the interface roughness (in meters).\n",
    "\n",
    "Range: 100 nm to 1 µm (1×10⁻⁷ to 1×10⁻⁶ m)."
   ]
  },
  {
   "cell_type": "markdown",
   "id": "862dc14f",
   "metadata": {},
   "source": [
    "### w_in_m\n",
    "\n",
    "Description: Input beam waist (w_in) in meters.\n",
    "\n",
    "Range: 1 µm to 5 µm (1×10⁻⁶ to 5×10⁻⁶ m)."
   ]
  },
  {
   "cell_type": "markdown",
   "id": "507ac843",
   "metadata": {},
   "source": [
    "### input_power\n",
    "\n",
    "Description: Input optical power (P_in) in Watts.\n",
    "\n",
    "Range: 1 mW to 10 mW (1×10⁻³ to 1×10⁻² W)."
   ]
  },
  {
   "cell_type": "markdown",
   "id": "39bcc8a0",
   "metadata": {},
   "source": [
    "## Output Parameter List (14 Targets)\n"
   ]
  },
  {
   "cell_type": "markdown",
   "id": "87952e6a",
   "metadata": {},
   "source": [
    "### propagation_loss_dB\n",
    "\n",
    "Description: Propagation loss (in dB) computed based on the exponential decay of optical power along the waveguide.\n",
    "\n",
    "Equation:\n",
    "\n",
    "```math\n",
    "P_{out} = P_{in}\\exp(-\\alpha_{total}L),\n",
    "\\quad\n",
    "Propagation\\ Loss\\ (dB) = 10\\log_{10}\\left(\\frac{P_{in}}{P_{out}}\\right)\n",
    "```"
   ]
  },
  {
   "cell_type": "markdown",
   "id": "0aa96963",
   "metadata": {},
   "source": [
    "### insertion_loss_dB\n",
    "\n",
    "Description: Insertion (or coupling) loss (in dB) computed from the mode mismatch between the input beam and the guided mode."
   ]
  },
  {
   "cell_type": "markdown",
   "id": "1ee9b1ef",
   "metadata": {},
   "source": [
    "### coupling_loss_dB\n",
    "\n",
    "Description: Coupling loss (in dB). In our model, this is identical to the insertion loss."
   ]
  },
  {
   "cell_type": "markdown",
   "id": "a6bb361d",
   "metadata": {},
   "source": [
    "### mode_field_diameter_m\n",
    "\n",
    "Description: Mode field diameter (MFD) computed via an empirical (Marcuse) formula.\n",
    "\n",
    "Equation:\n",
    "\n",
    "```math\n",
    "w = a\\left(0.65 + \\frac{1.619}{V^{1.5}} + \\frac{2.879}{V^6}\\right),\n",
    "MFD = 2w\n",
    "```"
   ]
  },
  {
   "cell_type": "markdown",
   "id": "0e83fc1f",
   "metadata": {},
   "source": [
    "### mode_confinement_factor\n",
    "\n",
    "Description: Fraction of the optical power confined in the core.\n",
    "\n",
    "Equation:\n",
    "\n",
    "```math\n",
    "\\Gamma = \\frac{u^2}{V^2},\n",
    "u = \\begin{cases}0.9V, & V<2.405, \\\\ V-0.5, & V\\ge2.405\\end{cases}\n",
    "```"
   ]
  },
  {
   "cell_type": "markdown",
   "id": "3e69a24c",
   "metadata": {},
   "source": [
    "### single_mode\n",
    "\n",
    "Description: A flag indicating whether the waveguide is single-mode (“Y”) (i.e., V<2.405)."
   ]
  },
  {
   "cell_type": "markdown",
   "id": "88d14f44",
   "metadata": {},
   "source": [
    "### multi_mode\n",
    "\n",
    "Description: A flag indicating multimode operation (“Y”) (i.e., V\\ge2.405); complementary to the single_mode flag."
   ]
  },
  {
   "cell_type": "markdown",
   "id": "9ee7c756",
   "metadata": {},
   "source": [
    "### scattering_loss_dB\n",
    "\n",
    "Description: Scattering loss (in dB) computed from the scattering loss coefficient.\n",
    "\n",
    "Equation:\n",
    "\n",
    "```math\n",
    "scattering_loss_dB = 4.343\\,\\alpha_{scatt,total}\\,L\n",
    "\\alpha_{scatt,total} = \\alpha_{scatt,bulk} + \\alpha_{scatt,surface}\n",
    "\\end{cases}\n",
    "```"
   ]
  },
  {
   "cell_type": "markdown",
   "id": "f29d1b5f",
   "metadata": {},
   "source": [
    "### effective_index\n",
    "\n",
    "Description: Effective refractive index (n_{eff}) of the guided mode, computed from an approximate eigenvalue solution.\n",
    "\n",
    "Equation:\n",
    "\n",
    "```math\n",
    "n_{eff} = \\sqrt{n_{2,real}^2 + \\frac{u^2}{V^2}(n_{1,real}^2 - n_{2,real}^2)}\n",
    "```"
   ]
  },
  {
   "cell_type": "markdown",
   "id": "6f42c93d",
   "metadata": {},
   "source": [
    "### cross_coupling\n",
    "\n",
    "Description: An approximate measure of mode cross coupling.\n",
    "\n",
    "Equation:\n",
    "\n",
    "```math\n",
    "Cross\\ Coupling = \\begin{cases}0, & V<2.405, \\\\ 0.5\\,(V-2.405)/V, & V\\ge2.405\\end{cases}\n",
    "```"
   ]
  },
  {
   "cell_type": "markdown",
   "id": "9569c261",
   "metadata": {},
   "source": [
    "### TE_percent\n",
    "\n",
    "Description: Percentage of the transverse electric (TE) component in the mode field. For single-mode, it is computed as (1−polarization)×100, while for multimode it is adjusted by cross coupling."
   ]
  },
  {
   "cell_type": "markdown",
   "id": "353e1334",
   "metadata": {},
   "source": [
    "### TM_percent\n",
    "\n",
    "Description: Percentage of the transverse magnetic (TM) component (complementary to TE_percent)."
   ]
  },
  {
   "cell_type": "markdown",
   "id": "18ea052a",
   "metadata": {},
   "source": [
    "### V_parameter\n",
    "\n",
    "Description: The normalized frequency of the waveguide, computed as\n",
    "\n",
    "```math\n",
    "V = \\frac{2\\pi\\,a}{\\lambda} \\sqrt{n_1^2 - n_2^2}\n",
    "```"
   ]
  },
  {
   "cell_type": "markdown",
   "id": "9e7b00e0",
   "metadata": {},
   "source": [
    "### output_power\n",
    "\n",
    "Description: The optical power at the output of the waveguide computed from the exponential decay of the input power.\n",
    "\n",
    "Equation:\n",
    "\n",
    "```math\n",
    "P_{out} = P_{in}\\exp(-\\alpha_{total}L)\n",
    "```"
   ]
  },
  {
   "cell_type": "markdown",
   "id": "7a89b1d7",
   "metadata": {},
   "source": [
    "## Equations and Methodology\n",
    "\n",
    "**Key Equations:**\n",
    "\n",
    "**Normalized Frequency (V):**\n",
    "\n",
    "```math\n",
    "V = \\frac{2\\pi\\, a}{\\lambda} \\sqrt{n_{1,real}^2 - n_{2,real}^2}\n",
    "```\n",
    "\n",
    "**Mode Field Diameter (MFD):**\n",
    "\n",
    "```math\n",
    "w = a\\left(0.65 + \\frac{1.619}{V^{1.5}} + \\frac{2.879}{V^6}\\right),\\quad MFD = 2w\n",
    "```\n",
    "\n",
    "**Mode Confinement Factor:**\n",
    "\n",
    "```math\n",
    "\\Gamma = \\frac{u^2}{V^2},\\quad u = \\begin{cases}0.9V, & V<2.405, \\\\ V-0.5, & V\\ge2.405\\end{cases}\n",
    "```\n",
    "\n",
    "**Effective Attenuation:**\n",
    "\n",
    "```math\n",
    "\\alpha_{eff} = \\alpha_{core}\\Gamma + \\alpha_{clad}(1-\\Gamma)\n",
    "```\n",
    "\n",
    "**Scattering Loss Coefficient:**\n",
    "\n",
    "```math\n",
    "\\alpha_{scatt,bulk} = \\frac{8\\pi^3}{3\\lambda^4}p^2(\\frac{\\Delta\\rho}{\\rho})^2\\Gamma,\\quad \\alpha_{scatt,surface} = \\frac{4\\pi^3}{\\lambda^2}\\sigma_{rms}^2 L_{corr}\n",
    "```\n",
    "\n",
    "**Total Attenuation:**\n",
    "\n",
    "```math\n",
    "\\alpha_{total} = \\alpha_{eff} + \\alpha_{scatt,bulk} + \\alpha_{scatt,surface}\n",
    "```\n",
    "\n",
    "**Output Power and Propagation Loss:**\n",
    "\n",
    "```math\n",
    "P_{out} = P_{in}\\exp(-\\alpha_{total}L),\\quad Propagation Loss (dB) = 10\\log_{10}(\\frac{P_{in}}{P_{out}})\n",
    "```\n",
    "\n",
    "**Insertion Loss (Coupling Loss) via Gaussian Overlap:**\n",
    "\n",
    "```math\n",
    "T_{nom} = \\frac{2 w_{in} w}{w_{in}^2 + w^2}\\exp\\left(-\\frac{\\Delta x^2}{w_{in}^2 + w^2}\\right),\\quad IL(dB) = -20 \\log_{10}(T_{nom})\n",
    "```\n",
    "\n",
    "**Methodology:**\n",
    "- Random Sampling: Each input parameter is sampled uniformly from its range.\n",
    "- Mode Balancing: Half the samples forced single-mode, half multimode.\n",
    "- Physics-Based Computation: Use the equations above to compute all outputs.\n",
    "- Complex Indices: Stored as strings “x+yj” for ease of parsing."
   ]
  }
 ],
 "metadata": {},
 "nbformat": 4,
 "nbformat_minor": 5
}
