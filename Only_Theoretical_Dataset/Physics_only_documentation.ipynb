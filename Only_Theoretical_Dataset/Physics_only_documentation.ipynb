{
 "cells": [
  {
   "cell_type": "markdown",
   "id": "eb6bae6a",
   "metadata": {},
   "source": [
    "# Updated Realistic Synthetic Waveguide Dataset (Physics-Only)\n",
    "\n",
    "This synthetic dataset is designed for training physics‐inspired neural networks in the domain of optical waveguide characterization. It consists of 50,000 samples, each with 15 input features capturing physical, material, and geometrical attributes, and 14 output targets describing optical performance.\n",
    "\n",
    "Use this dataset to train data‐driven models that predict waveguide performance from basic design parameters in integrated photonics applications."
   ]
  },
  {
   "cell_type": "markdown",
   "id": "7ee7d97b",
   "metadata": {},
   "source": [
    "## 📂 Input Parameter List (15 Features)\n",
    "\n",
    "| Name                      | Description                                                                                                          | Range / Format                                                                                       |\n",
    "|---------------------------|----------------------------------------------------------------------------------------------------------------------|------------------------------------------------------------------------------------------------------|\n",
    "| `core_index`              | Complex refractive index of the waveguide core.                                                                      | Real: 1.48–1.52 (single-mode) or 1.50–1.52 (multimode); Imaginary: -1e-8 to -1e-7; Stored as “x+yj”. |\n",
    "| `clad_index`              | Complex refractive index of the cladding.                                                                            | Real: ~1.44 up to just below core index; Imaginary: -1e-8 to -1e-7; Format “x+yj”.                  |\n",
    "| `core_radius_m`           | Core radius \\(a\\).                                                                                                   | Single-mode: 0.5–2 µm; Multimode: 2–10 µm.                                                           |\n",
    "| `clad_radius_m`           | Cladding radius \\(b\\).                                                                                               | 20–50 µm.                                                                                            |\n",
    "| `length_m`                | Waveguide length \\(L\\).                                                                                              | 0.001–0.5 m.                                                                                         |\n",
    "| `wavelength_m`            | Operating wavelength \\(\\lambda\\).                                                                                    | 500×10⁻⁹–1.6×10⁻⁶ m.                                                                                 |\n",
    "| `polarization`            | Input polarization (0 = pure TE, 1 = pure TM).                                                                       | 0–1.                                                                                                |\n",
    "| `alpha_core`              | Core intrinsic loss coefficient \\(\u0007lpha_{\r",
    "m core}\\).                                                               | 1e-4–1e-3 m⁻¹.                                                                                       |\n",
    "| `alpha_clad`              | Cladding intrinsic loss coefficient \\(\u0007lpha_{\r",
    "m clad}\\).                                                           | 1e-4–1e-3 m⁻¹.                                                                                       |\n",
    "| `photoelastic_coeff`      | Photoelastic coefficient \\(p\\) of the core material.                                                                 | 0.20–0.25.                                                                                           |\n",
    "| `delta_rho_over_rho`      | Density variation ratio \\(\\Delta\r",
    "ho/\r",
    "ho\\).                                                                          | 1e-12–1e-11.                                                                                         |\n",
    "| `sigma_rms_m`             | RMS surface roughness \\(\\sigma\\) at the core–cladding interface.                                                      | 1–10 nm.                                                                                            |\n",
    "| `roughness_corr_length_m` | Correlation length \\(L_{\r",
    "m corr}\\) of interface roughness.                                                          | 100 nm–1 µm.                                                                                         |\n",
    "| `w_in_m`                  | Input beam waist \\(w_{\r",
    "m in}\\).                                                                                     | 1–5 µm.                                                                                             |\n",
    "| `input_power`             | Input optical power \\(P_{\r",
    "m in}\\).                                                                                  | 1e-3–1e-2 W.                                                                                        |\n"
   ]
  },
  {
   "cell_type": "markdown",
   "id": "5300eaaa",
   "metadata": {},
   "source": [
    "## 🌟 Output Parameter List (14 Targets)\n",
    "\n",
    "| Name                     | Description                                                                                                   |\n",
    "|--------------------------|---------------------------------------------------------------------------------------------------------------|\n",
    "| `propagation_loss_dB`    | Propagation loss (dB):                                     |\n",
    "|                          | \\[P_out = P_in e^{-α_total L},  L_prop = 10 log_10(P_in / P_out)\\]    |\n",
    "| `insertion_loss_dB`      | Insertion (coupling) loss (dB) via Gaussian overlap.                                                           |\n",
    "| `coupling_loss_dB`       | Same as insertion loss.                                                                                        |\n",
    "| `mode_field_diameter_m`  | Mode field diameter (MFD): \\[w = a(0.65 + 1.619 V^{-1.5} + 2.879 V^{-6}),  MFD = 2w\\]                          |\n",
    "| `mode_confinement_factor`| Fraction of power in core: \\[Γ = u^2 / V^2\\]                                                                   |\n",
    "| `single_mode`            | Flag 'Y' if single-mode (V<2.405), else 'N'.                                                                  |\n",
    "| `multi_mode`             | Flag 'Y' if multimode (V≥2.405), else 'N'.                                                                    |\n",
    "| `scattering_loss_dB`     | Scattering loss (dB):                                                                                         |\n",
    "|                          | \\[α_scatt,bulk = (8π^3/(3 λ^4)) p^2 (Δρ/ρ)^2 Γ,  α_scatt,surf = (4π^3/λ^2) σ^2 L_corr,  loss = 4.343 (α_scatt,total) L\\] |\n",
    "| `effective_index`        | Effective index: \\[n_eff = sqrt(n_clad^2 + (u^2/V^2)(n_core^2 - n_clad^2))\\]                                   |\n",
    "| `cross_coupling`         | Cross-coupling: \\[0 if V<2.405; 0.5 (V-2.405)/V if V≥2.405\\]                                                   |\n",
    "| `TE_percent`, `TM_percent`| Mode polarization fractions (%)                                                                               |\n",
    "| `V_parameter`            | Normalized frequency \\[V = (2π a / λ) sqrt(n_core^2 - n_clad^2)\\]                                              |\n",
    "| `output_power`           | Output power: \\[P_out = P_in exp(-α_total L)\\]                                                                |\n"
   ]
  },
  {
   "cell_type": "markdown",
   "id": "b481c6c1",
   "metadata": {},
   "source": [
    "## 🧮 Key Physics Equations"
   ]
  },
  {
   "cell_type": "markdown",
   "id": "0bdfdbfc",
   "metadata": {},
   "source": [
    "**Normalized Frequency**  \n",
    "$$V = \\frac{2\\pi\\,a}{\\lambda}\\sqrt{n_{\\mathrm{core,real}}^2 - n_{\\mathrm{clad,real}}^2}$$"
   ]
  },
  {
   "cell_type": "markdown",
   "id": "04af2dcb",
   "metadata": {},
   "source": [
    "**Mode Field Radius (w)**  \n",
    "$$w = a\\Bigl(0.65 + 1.619\\,V^{-1.5} + 2.879\\,V^{-6}\\Bigr)$$"
   ]
  },
  {
   "cell_type": "markdown",
   "id": "9cf6c228",
   "metadata": {},
   "source": [
    "**Mode Field Diameter (MFD)**  \n",
    "$$\\mathrm{MFD} = 2\\,w$$"
   ]
  },
  {
   "cell_type": "markdown",
   "id": "03e5bc72",
   "metadata": {},
   "source": [
    "**Eigenvalue Parameter (u)**  \n",
    "$$u = \\begin{cases}0.9\\,V,&V<2.405,\\\\V-0.5,&V\\ge2.405,\\end{cases}$$"
   ]
  },
  {
   "cell_type": "markdown",
   "id": "fa29263f",
   "metadata": {},
   "source": [
    "**Mode Confinement Factor (Γ)**  \n",
    "$$\\Gamma = \\frac{u^2}{V^2}$$"
   ]
  },
  {
   "cell_type": "markdown",
   "id": "704e43a8",
   "metadata": {},
   "source": [
    "**Effective Attenuation (α_eff)**  \n",
    "$$\\alpha_{\\rm eff} = \\alpha_{\\rm core}\\,\\Gamma + \\alpha_{\\rm clad}\\,(1-\\Gamma)$$"
   ]
  },
  {
   "cell_type": "markdown",
   "id": "1e919eee",
   "metadata": {},
   "source": [
    "**Bulk Scattering (α_scatt,bulk)**  \n",
    "$$\\alpha_{\\rm scatt,bulk} = \\frac{8\\pi^3}{3\\lambda^4}p^2\\Bigl(\\tfrac{\\Delta\\rho}{\\rho}\\Bigr)^2\\Gamma$$"
   ]
  },
  {
   "cell_type": "markdown",
   "id": "44bc8e29",
   "metadata": {},
   "source": [
    "**Surface Scattering (α_scatt,surf)**  \n",
    "$$\\alpha_{\\rm scatt,surf} = \\frac{4\\pi^3}{\\lambda^2}\\sigma_{\\rm rms}^2\\,L_{\\rm corr}$$"
   ]
  },
  {
   "cell_type": "markdown",
   "id": "111ac1df",
   "metadata": {},
   "source": [
    "**Total Attenuation (α_total)**  \n",
    "$$\\alpha_{\\rm total} = \\alpha_{\\rm eff} + \\alpha_{\\rm scatt,bulk} + \\alpha_{\\rm scatt,surf}$$"
   ]
  },
  {
   "cell_type": "markdown",
   "id": "1d690e66",
   "metadata": {},
   "source": [
    "**Output Power**  \n",
    "$$P_{\\rm out} = P_{\\rm in} \\exp\\bigl(-\\alpha_{\\rm total} L\\bigr)$$"
   ]
  },
  {
   "cell_type": "markdown",
   "id": "03b82c29",
   "metadata": {},
   "source": [
    "**Propagation Loss**  \n",
    "$$\\mathcal{L}_{\\rm prop} = 10 \\log_{10}\\frac{P_{\\rm in}}{P_{\\rm out}}$$"
   ]
  },
  {
   "cell_type": "markdown",
   "id": "1e9c49e7",
   "metadata": {},
   "source": [
    "## ⚙️ Methodology (Physics-Only)\n",
    "\n",
    "1. **Random Sampling**: Uniformly sample each input parameter within its specified range.\n",
    "2. **Mode Balancing**: Force approximately 50% of samples into the single-mode regime ($V<2.405$) and 50% into multi-mode ($V\\ge2.405$).\n",
    "3. **Physics-Based Computation**: Use the equations above to compute all optical performance metrics (losses, MFD, n_eff, polarization, etc.).\n",
    "4. **Complex Index Formatting**: Store core and cladding refractive indices as strings `\"x+yj\"` without extra brackets."
   ]
  }
 ],
 "metadata": {},
 "nbformat": 4,
 "nbformat_minor": 5
}
