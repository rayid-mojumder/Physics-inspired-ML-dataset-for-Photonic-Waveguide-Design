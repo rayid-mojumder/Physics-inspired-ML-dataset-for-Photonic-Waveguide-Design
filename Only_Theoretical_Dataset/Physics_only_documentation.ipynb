{
 "cells": [
  {
   "cell_type": "markdown",
   "id": "dba40447",
   "metadata": {},
   "source": [
    "# 📘 Updated Realistic Synthetic Waveguide Dataset (Physics-Only)\n",
    "---\n",
    "**Dataset Overview**\n",
    "\n",
    "This synthetic dataset is designed for training **physics‐inspired neural networks** in the domain of **optical waveguide characterization**. The dataset consists of **50,000 samples**. Each sample comprises **15 input features** that capture the physical, material, and geometrical attributes of a waveguide and **14 output targets** that describe its optical performance (losses, mode characteristics, effective index, and polarization components).\n",
    "\n",
    "The dataset is especially useful for developing data‐driven models that can predict waveguide performance from basic design parameters, enabling applications in integrated photonics for both glass and silicon-based devices."
   ]
  },
  {
   "cell_type": "markdown",
   "id": "d16b8a27",
   "metadata": {},
   "source": [
    "---\n",
    "## 📂 Input Parameter List (15 Features)\n",
    "| **Feature**               | **Description**                                                                                                                          |\n",
    "|---------------------------|-------------------------------------------------------------------------------------------------------------------------------------------|\n",
    "| `core_index`              | Complex refractive index of the waveguide core. Range: real 1.48–1.52 (single‑mode) or 1.50–1.52 (multimode); imag −1×10⁻⁸–−1×10⁻⁷. Format: “x+yj”. |\n",
    "| `clad_index`              | Complex refractive index of the cladding. Range: ~1.44 up to just below core index; imag −1×10⁻⁸–−1×10⁻⁷. Format: same as core_index.    |\n",
    "| `core_radius_m`           | Core radius (a) in meters. Range: 0.5–2 µm (single‑mode) or 2–10 µm (multimode).                                                     |\n",
    "| `clad_radius_m`           | Cladding radius (b) in meters. Range: 20–50 µm.                                                                                         |\n",
    "| `length_m`                | Waveguide length (L) in meters. Range: 0.001–0.5 m.                                                                                     |\n",
    "| `wavelength_m`            | Operating wavelength (λ) in meters. Range: 500 nm–1600 nm.                                                                             |\n",
    "| `polarization`            | Input polarization (0 = TE, 1 = TM). Range: 0–1.                                                                                       |\n",
    "| `alpha_core`              | Core intrinsic loss coefficient (α₁) in m⁻¹. Range: 1×10⁻⁴–1×10⁻³.                                                                     |\n",
    "| `alpha_clad`              | Cladding intrinsic loss coefficient (α₂) in m⁻¹. Range: 1×10⁻⁴–1×10⁻³.                                                                  |\n",
    "| `photoelastic_coeff`      | Photoelastic coefficient (p) of the core material. Range: 0.20–0.25.                                                                     |\n",
    "| `delta_rho_over_rho`      | Density variation ratio (Δρ/ρ). Range: 1×10⁻¹²–1×10⁻¹¹.                                                                                 |\n",
    "| `sigma_rms_m`             | RMS surface roughness (σ) at core–clad interface (m). Range: 1–10 nm.                                                                   |\n",
    "| `roughness_corr_length_m` | Correlation length (L_corr) of interface roughness (m). Range: 100 nm–1 µm.                                                             |\n",
    "| `w_in_m`                  | Input beam waist (w_in) in meters. Range: 1–5 µm.                                                                                      |\n",
    "| `input_power`             | Input optical power (P_in) in W. Range: 1×10⁻³–1×10⁻².                                                                                 |\n"
   ]
  },
  {
   "cell_type": "markdown",
   "id": "0f3fb519",
   "metadata": {},
   "source": [
    "---\n",
    "## 🌟 Output Parameter List (14 Targets)\n",
    "| **Target**                   | **Description**                                                                                                    |\n",
    "|------------------------------|--------------------------------------------------------------------------------------------------------------------|\n",
    "| `propagation_loss_dB`        | Propagation loss (dB): $$P_{out} = P_{in}\\exp(-\\alpha_{total}L),\\quad L_{prop}=10\\log_{10}(P_{in}/P_{out})$$     |\n",
    "| `insertion_loss_dB`          | Insertion (coupling) loss (dB) via Gaussian overlap.                                                               |\n",
    "| `coupling_loss_dB`           | Coupling loss (dB), identical to insertion_loss_dB.                                                                |\n",
    "| `mode_field_diameter_m`      | Mode field diameter (MFD): $$w = a(0.65+1.619V^{-1.5}+2.879V^{-6}),\\; MFD=2w$$                                      |\n",
    "| `mode_confinement_factor`    | Fraction of power in the core: $$\\Gamma = u^2/V^2$$                                                               |\n",
    "| `single_mode`                | ‘Y’ if single-mode (V<2.405), else ‘N’.                                                                            |\n",
    "| `multi_mode`                 | ‘Y’ if multimode (V≥2.405), else ‘N’.                                                                              |\n",
    "| `scattering_loss_dB`         | Scattering loss (dB): $$4.343(\\alpha_{scatt,bulk}+\\alpha_{scatt,surf})L$$                                         |\n",
    "| `effective_index`            | Effective refractive index: $$n_{eff}=\\sqrt{n_{clad}^2+(u^2/V^2)(n_{core}^2-n_{clad}^2)}$$                       |\n",
    "| `cross_coupling`             | Cross-coupling: $$0\\;\text{if }V<2.405,\\;0.5\\,(V-2.405)/V\\;\text{if }V\\ge2.405$$                                   |\n",
    "| `TE_percent`, `TM_percent`   | Mode polarization percentages (%)                                                                                  |\n",
    "| `V_parameter`                | Normalized frequency: $$V=2\\pi a/\\lambda\\sqrt{n_{core}^2-n_{clad}^2}$$                                           |\n",
    "| `output_power`               | Output power: $$P_{out}=P_{in}\\exp(-\\alpha_{total}L)$$                                                            |\n"
   ]
  },
  {
   "cell_type": "markdown",
   "id": "92537d1c",
   "metadata": {},
   "source": [
    "---\n",
    "## 🧮 Key Physics Equations\n",
    "---\n",
    "1. **Normalized Frequency**  \n",
    "   $$V = \\frac{2\\pi\\,a}{\\lambda}\\sqrt{n_{core,real}^2 - n_{clad,real}^2}$$\n",
    "\n",
    "2. **Mode Field Radius**  \n",
    "   $$w = a\\Bigl(0.65 + 1.619V^{-1.5} + 2.879V^{-6}\\Bigr)$$\n",
    "\n",
    "3. **Mode Field Diameter**  \n",
    "   $$MFD = 2w$$\n",
    "\n",
    "4. **Eigenvalue Parameter**  \n",
    "   $$u = \\begin{cases}0.9V,&V<2.405\\\\V-0.5,&V\\ge2.405\\end{cases}$$\n",
    "\n",
    "5. **Mode Confinement Factor**  \n",
    "   $$\\Gamma = \\frac{u^2}{V^2}$$\n",
    "\n",
    "6. **Effective Attenuation**  \n",
    "   $$\\alpha_{eff} = \\alpha_{core}\\Gamma + \\alpha_{clad}(1-\\Gamma)$$\n",
    "\n",
    "7. **Bulk Scattering**  \n",
    "   $$\\alpha_{scatt,bulk} = \\frac{8\\pi^3}{3\\lambda^4}p^2(\\tfrac{\\Delta\\rho}{\\rho})^2\\Gamma$$\n",
    "\n",
    "8. **Surface Scattering**  \n",
    "   $$\\alpha_{scatt,surf} = \\frac{4\\pi^3}{\\lambda^2}\\sigma_{rms}^2L_{corr}$$\n",
    "\n",
    "9. **Total Attenuation**  \n",
    "   $$\\alpha_{total} = \\alpha_{eff} + \\alpha_{scatt,bulk} + \\alpha_{scatt,surf}$$\n",
    "\n",
    "10. **Output Power**  \n",
    "   $$P_{out} = P_{in}\\exp(-\\alpha_{total}L)$$\n",
    "\n",
    "11. **Propagation Loss**  \n",
    "   $$L_{prop} = 10\\log_{10}(P_{in}/P_{out})$$\n"
   ]
  },
  {
   "cell_type": "markdown",
   "id": "a3930359",
   "metadata": {},
   "source": [
    "---\n",
    "## ⚙️ Methodology (Physics-Only)\n",
    "---\n",
    "1. **Random Sampling** – Uniformly sample each input parameter within its specified range.\n",
    "2. **Mode Balancing** – Force ~50% of samples into single-mode (V<2.405) and 50% into multimode (V≥2.405).\n",
    "3. **Physics-Based Computation** – Compute optical performance metrics using the equations above.\n",
    "4. **Index Formatting** – Store complex indices as strings “x+yj” for easy parsing.\n"
   ]
  }
 ],
 "metadata": {},
 "nbformat": 4,
 "nbformat_minor": 5
}
