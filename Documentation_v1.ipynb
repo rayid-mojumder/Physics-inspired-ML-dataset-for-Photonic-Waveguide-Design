{
 "cells": [
  {
   "cell_type": "markdown",
   "id": "b888d6ab",
   "metadata": {},
   "source": [
    "# Updated Realistic Synthetic Waveguide Dataset\n",
    "This repository contains a realistic synthetic dataset generator for optical waveguide characterization. It builds on a physics-inspired core, injects controlled noise, and tunes to match real experimental statistics. The final output is:\n",
    "\n",
    "- **50,000 samples**  \n",
    "- **15 input features** (geometrical, material, and physical parameters)  \n",
    "- **14 output targets** (losses, mode properties, effective index, polarization, etc.)  \n",
    "\n",
    "Use this dataset to train data-driven models that predict waveguide performance from basic design parameters—with the added realism of experimental-data correction."
   ]
  },
  {
   "cell_type": "markdown",
   "id": "3accfea2",
   "metadata": {},
   "source": [
    "## 📂 Input Parameters (15 Features)\n",
    "\n",
    "| Name | Description | Units / Format |\n",
    "|---|---|---|\n",
    "| `core_index` | Complex refractive index of the core, as string `n_real+n_imagj` (e.g. `1.488000-3.200000e-08j`). | — |\n",
    "| `clad_index` | Complex refractive index of the cladding, same format. | — |\n",
    "| `core_radius_m` | Core radius $a$. | meters (0.5 × 10⁻⁶–10 × 10⁻⁶ m) |\n",
    "| `clad_radius_m` | Cladding radius $b$. | meters (20–50 µm) |\n",
    "| `length_m` | Waveguide length $L$. | meters (1 mm–0.5 m) |\n",
    "| `wavelength_m` | Operating wavelength $\\lambda$. | meters (500 nm–1600 nm) |\n",
    "| `polarization` | Input polarization (0 = TE, 1 = TM). | unitless (0–1) |\n",
    "| `alpha_core` | Core intrinsic loss $\\alpha_{\\rm core}$. | m⁻¹ (1e-4–1e-3) |\n",
    "| `alpha_clad` | Cladding intrinsic loss $\\alpha_{\\rm clad}$. | m⁻¹ (1e-4–1e-3) |\n",
    "| `photoelastic_coeff` | Photoelastic coefficient $p$. | unitless (0.20–0.25) |\n",
    "| `delta_rho_over_rho` | Density variation ratio $\\Delta\\rho/\\rho$. | unitless (1e-12–1e-11) |\n",
    "| `sigma_rms_m` | RMS surface roughness $\\sigma$. | meters (1–10 nm) |\n",
    "| `roughness_corr_length_m` | Roughness correlation length $L_{\\rm corr}$. | meters (100 nm–1 µm) |\n",
    "| `w_in_m` | Input beam waist $w_{\\rm in}$. | meters (1–5 µm) |\n",
    "| `input_power` | Input optical power $P_{\\rm in}$. | Watts (1–10 mW) |"
   ]
  },
  {
   "cell_type": "markdown",
   "id": "8f0f83d3",
   "metadata": {},
   "source": [
    "## 🌟 Output Targets (14 Features)\n",
    "\n",
    "| Name | Description |\n",
    "|---|---|\n",
    "| `propagation_loss_dB` | Propagation loss (dB) |\n",
    "| `insertion_loss_dB` | Insertion (coupling) loss (dB) |\n",
    "| `coupling_loss_dB` | Same as insertion loss |\n",
    "| `mode_field_diameter_m` | Mode field diameter $2w$ |\n",
    "| `mode_confinement_factor` | Fraction of power confined in the core $\\Gamma$ |\n",
    "| `single_mode` | `Y` if single-mode ($V<2.405$), else `N` |\n",
    "| `multi_mode` | Complement of `single_mode` |\n",
    "| `scattering_loss_dB` | Scattering loss (dB) |\n",
    "| `effective_index` | Effective refractive index $n_{\\rm eff}$ |\n",
    "| `cross_coupling` | Cross-coupling metric |\n",
    "| `TE_percent`, `TM_percent` | Mode polarization percentages |\n",
    "| `V_parameter` | Normalized frequency $V$ |\n",
    "| `output_power` | Output power $P_{\\rm out}$ |"
   ]
  },
  {
   "cell_type": "markdown",
   "id": "e73a78e6",
   "metadata": {},
   "source": [
    "## 🧮 Key Equations"
   ]
  },
  {
   "cell_type": "markdown",
   "id": "51eef4d9",
   "metadata": {},
   "source": [
    "**Normalized Frequency**  \n",
    "$$V = \\frac{2\\pi\\,a}{\\lambda}\\sqrt{n_{\\mathrm{core,real}}^2 - n_{\\mathrm{clad,real}}^2}$$"
   ]
  },
  {
   "cell_type": "markdown",
   "id": "e291f678",
   "metadata": {},
   "source": [
    "**Mode Field Diameter**  \n",
    "$$w = a\\Bigl(0.65 + 1.619\\,V^{-1.5} + 2.879\\,V^{-6}\\Bigr)\\quad\\mathrm{MFD}=2w$$"
   ]
  },
  {
   "cell_type": "markdown",
   "id": "1ff66eed",
   "metadata": {},
   "source": [
    "**Mode Confinement Factor**  \n",
    "$$\n",
    "u = \\begin{cases}\n",
    "0.9\\,V, & V < 2.405,\\\\\n",
    "V - 0.5, & V \\ge 2.405,\n",
    "\\end{cases}\n",
    "\\quad \\Gamma = \\frac{u^2}{V^2}\n",
    "$$"
   ]
  },
  {
   "cell_type": "markdown",
   "id": "0dad285b",
   "metadata": {},
   "source": [
    "**Intrinsic Attenuation**  \n",
    "$$\\alpha_{\\rm eff} = \\alpha_{\\rm core}\\,\\Gamma + \\alpha_{\\rm clad}\\,(1-\\Gamma)$$"
   ]
  },
  {
   "cell_type": "markdown",
   "id": "22cbd9cd",
   "metadata": {},
   "source": [
    "**Scattering Loss Coefficients**  \n",
    "$$\n",
    "\\alpha_{\\rm scatt,bulk}\n",
    "= \\frac{8\\pi^3}{3\\,\\lambda^4}\\,p^2\\Bigl(\\frac{\\Delta\\rho}{\\rho}\\Bigr)^2\\,\\Gamma,\n",
    "\\quad\n",
    "\\alpha_{\\rm scatt,surf}\n",
    "= \\frac{4\\pi^3}{\\lambda^2}\\,\\sigma_{\\rm rms}^2\\,L_{\\rm corr}\n",
    "$$"
   ]
  },
  {
   "cell_type": "markdown",
   "id": "3b0b4a2b",
   "metadata": {},
   "source": [
    "**Total Attenuation**  \n",
    "$$\\alpha_{\\rm total} = \\alpha_{\\rm eff} + \\alpha_{\\rm scatt,bulk} + \\alpha_{\\rm scatt,surf}$$"
   ]
  },
  {
   "cell_type": "markdown",
   "id": "258d1d2f",
   "metadata": {},
   "source": [
    "**Output Power**  \n",
    "$$P_{\\rm out} = P_{\\rm in}\\,\\exp\\bigl(-\\alpha_{\\rm total}L\\bigr)$$"
   ]
  },
  {
   "cell_type": "markdown",
   "id": "d6b1945c",
   "metadata": {},
   "source": [
    "**Propagation Loss (dB)**  \n",
    "$$\\mathcal{L}_{\\rm prop} = 10\\,\\log_{10}\\!\\Bigl(\\frac{P_{\\rm in}}{P_{\\rm out}}\\Bigr)$$"
   ]
  },
  {
   "cell_type": "markdown",
   "id": "3abb202f",
   "metadata": {},
   "source": [
    "**Gaussian Overlap**  \n",
    "$$\n",
    "T_{\\rm nom}\n",
    "= \\frac{2\\,w_{\\rm in}\\,w}{w_{\\rm in}^2 + w^2}\n",
    "  \\exp\\!\\Bigl(-\\frac{\\Delta x^2}{w_{\\rm in}^2 + w^2}\\Bigr),\n",
    "\\quad\n",
    "\\Delta x \\sim \\mathcal{U}(0,2w)\n",
    "$$"
   ]
  },
  {
   "cell_type": "markdown",
   "id": "9800b558",
   "metadata": {},
   "source": [
    "**Insertion/Coupling Loss**  \n",
    "$$\\mathrm{IL}_{\\rm dB} = -20\\,\\log_{10}(T_{\\rm nom}),\\quad \\mathrm{CL}_{\\rm dB} = \\mathrm{IL}_{\\rm dB}$$"
   ]
  },
  {
   "cell_type": "markdown",
   "id": "6af1be28",
   "metadata": {},
   "source": [
    "**Effective Index**  \n",
    "$$n_{\\rm eff} = \\sqrt{n_{\\rm clad,real}^2 + \\frac{u^2}{V^2}(n_{\\rm core,real}^2 - n_{\\rm clad,real}^2)}$$"
   ]
  },
  {
   "cell_type": "markdown",
   "id": "5e7f1564",
   "metadata": {},
   "source": [
    "**Cross-Coupling**  \n",
    "$$\n",
    "\\mathrm{CrossCoupling} =\n",
    "\\begin{cases}\n",
    "0, & V<2.405,\\\\\n",
    "\\frac{1}{2}\\,\\frac{V-2.405}{V}, & V\\ge2.405\n",
    "\\end{cases}\n",
    "$$"
   ]
  },
  {
   "cell_type": "markdown",
   "id": "a73c3ef2",
   "metadata": {},
   "source": [
    "**Polarization Percentages**  \n",
    "$$\n",
    "\\mathrm{TE}\\% = (1 - p_{\\rm pol})\\times100,\\quad\n",
    "\\mathrm{TM}\\% = p_{\\rm pol}\\times100\n",
    "$$\n",
    "For \\(V\\ge2.405\\):\n",
    "$$\n",
    "\\mathrm{TE}\\% = \\bigl((1-p_{\\rm pol})(1-C) + 0.5\\,C\\bigr)\\times100,\\quad\n",
    "\\mathrm{TM}\\% = \\bigl(p_{\\rm pol}(1-C) + 0.5\\,C\\bigr)\\times100\n",
    "$$"
   ]
  },
  {
   "cell_type": "markdown",
   "id": "1a0a9a4d",
   "metadata": {},
   "source": [
    "**Noise Injection**  \n",
    "$$\\eta \\sim \\mathcal{N}\\bigl(0,(\\frac{\\text{noise}\\%}{100})^2\\bigr),\\quad x' = x\\,(1 + \\eta)$$"
   ]
  },
  {
   "cell_type": "markdown",
   "id": "2db2b3b1",
   "metadata": {},
   "source": [
    "**Clamping / Experimental Correction**  \n",
    "$$\n",
    "\\mathcal{L}_{\\rm prop} \\ge 0.1,\\;\n",
    "\\mathrm{IL}_{\\rm dB},\\;\\mathrm{CL}_{\\rm dB},\\;\\mathrm{scattering\\_loss\\_dB}\\ge0,\\;\n",
    "P_{\\rm out} \\ge 10^{-20}\\,\\mathrm{W}\n",
    "$$"
   ]
  },
  {
   "cell_type": "markdown",
   "id": "871e8543",
   "metadata": {},
   "source": [
    "## ⚙️ Data Generation Procedure\n",
    "\n",
    "1. **Load experimental data**  \n",
    "   Read propagation losses and MFDs from the literature; compute mean & std.  \n",
    "2. **Sample inputs & compute physics**  \n",
    "   Uniformly sample inputs; compute parameters $V$, $w$, $\\Gamma$, loss coefficients, $n_{\\rm eff}$, polarization, etc.  \n",
    "3. **Inject noise**  \n",
    "   Apply 5\\% Gaussian noise to each computed output.  \n",
    "4. **Experimental correction**  \n",
    "   Adjust loss & MFD distributions to match experimental statistics.  \n",
    "5. **Persist to CSV**  \n",
    "   Batch-write 1,000 samples at a time into `final_realistic_synthetic_dataset.csv`."
   ]
  },
  {
   "cell_type": "code",
   "execution_count": null,
   "id": "4776a6d3",
   "metadata": {},
   "outputs": [],
   "source": [
    "# Usage Example\n",
    "!git clone https://github.com/yourusername/waveguide-dataset.git\n",
    "%cd waveguide-dataset\n",
    "!python generate_waveguide_dataset.py\n",
    "# Output: final_realistic_synthetic_dataset.csv"
   ]
  },
  {
   "cell_type": "markdown",
   "id": "14d1bd8e",
   "metadata": {},
   "source": [
    "## 🔧 Parameter Definitions in Equations\n",
    "\n",
    "| Parameter                | Meaning                                                   | Units          | Relevance                                                                 |\n",
    "|--------------------------|-----------------------------------------------------------|----------------|---------------------------------------------------------------------------|\n",
    "| **a**                    | Waveguide core radius                                     | m              | Affects normalized frequency (V) and mode field size                     |\n",
    "| **λ**                    | Operating wavelength                                      | m              | Fundamental to frequency parameter V and dispersion                       |\n",
    "| **n<sub>core,real</sub>**   | Real part of core refractive index                        | unitless       | Determines index contrast, guiding properties                             |\n",
    "| **n<sub>clad,real</sub>**   | Real part of cladding refractive index                    | unitless       | Along with n<sub>core</sub>, sets normalized frequency and confinement    |\n",
    "| **V**                    | Normalized frequency                                      | unitless       | Governs single- vs. multi-mode operation                                  |\n",
    "| **w**                    | Gaussian mode-field radius                                | m              | Intermediate for calculating MFD                                           |\n",
    "| **MFD**                  | Mode field diameter                                       | m              | Defines beam size for coupling and loss calculations                      |\n",
    "| **u**                    | Eigenvalue parameter for mode                                | unitless       | Used in confinement and effective index computations                      |\n",
    "| **Γ**                    | Mode confinement factor                                   | unitless       | Fraction of power confined in core                                        |\n",
    "| **α<sub>core</sub>**        | Core intrinsic loss coefficient                            | m<sup>-1</sup>   | Base loss contribution from core material                                  |\n",
    "| **α<sub>clad</sub>**        | Cladding intrinsic loss coefficient                        | m<sup>-1</sup>   | Base loss contribution from cladding material                              |\n",
    "| **α<sub>scatt,bulk</sub>**  | Bulk scattering coefficient                                | m<sup>-1</sup>   | Loss from volume scattering (Rayleigh-style)                               |\n",
    "| **α<sub>scatt,surf</sub>**  | Surface scattering coefficient                             | m<sup>-1</sup>   | Loss from roughness at core-cladding interface                             |\n",
    "| **α<sub>eff</sub>**         | Effective attenuation                                     | m<sup>-1</sup>   | Combines core/clad intrinsic losses weighted by confinement               |\n",
    "| **α<sub>total</sub>**       | Total attenuation                                         | m<sup>-1</sup>   | Sum of effective and scattering losses                                     |\n",
    "| **P<sub>in</sub>**          | Input optical power                                       | W              | Starting power for loss calculations                                       |\n",
    "| **P<sub>out</sub>**         | Output optical power                                      | W              | Power after propagation for loss calculation                               |\n",
    "| **L**                    | Waveguide length                                          | m              | Distance over which losses accumulate                                       |\n",
    "| **L<sub>corr</sub>**        | Roughness correlation length                              | m              | Characteristic scale of surface roughness for scattering                   |\n",
    "| **p**                    | Photoelastic coefficient                                   | unitless       | Relates density fluctuations to scattering                                 |\n",
    "| **Δρ/ρ**                 | Density variation ratio                                    | unitless       | Input for bulk scattering through density fluctuations                     |\n",
    "| **σ<sub>rms</sub>**         | RMS surface roughness                                     | m              | Magnitude of surface roughness contributing to surface scattering          |\n",
    "| **w<sub>in</sub>**         | Input beam waist                                          | m              | Coupling overlap between input beam and guided mode                        |\n",
    "| **Δx**                   | Lateral misalignment                                       | m              | Offset in coupling overlap calculation                                      |\n",
    "| **T<sub>nom</sub>**         | Nominal overlap integral                                   | unitless       | Gaussian overlap for coupling/insertion loss                                |\n",
    "| **η**                    | Noise factor (Gaussian)                                    | unitless       | Random variation applied for experimental realism                          |\n",
    "| **x′**                   | Noisy output value                                         | same as x      | Final value after noise injection                                           |\n"
   ]
  },
  {
   "cell_type": "markdown",
   "id": "62cb02b1",
   "metadata": {},
   "source": [
    "## 📊 Experimental Data Reference\n",
    "Below is the experimental data reference table loaded directly from the source Excel file:"
   ]
  },
  {
   "cell_type": "code",
   "execution_count": null,
   "id": "67faafc6",
   "metadata": {},
   "outputs": [],
   "source": [
    "import pandas as pd\n",
    "df = pd.read_excel('Lit_review_Experimental_Data_Details.xlsx')\n",
    "df"
   ]
  }
 ],
 "metadata": {},
 "nbformat": 4,
 "nbformat_minor": 5
}
